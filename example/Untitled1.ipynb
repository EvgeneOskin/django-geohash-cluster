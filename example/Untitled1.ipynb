{
 "cells": [
  {
   "cell_type": "code",
   "execution_count": 1,
   "metadata": {},
   "outputs": [
    {
     "name": "stdout",
     "output_type": "stream",
     "text": [
      "Requirement already satisfied: django in /usr/local/lib/python2.7/dist-packages\n",
      "Requirement already satisfied: python-geohash in /usr/local/lib/python2.7/dist-packages\n",
      "Requirement already satisfied: django-filter in /usr/local/lib/python2.7/dist-packages\n",
      "Requirement already satisfied: dj_database_url in /usr/local/lib/python2.7/dist-packages\n",
      "Requirement already satisfied: psycopg2 in /usr/local/lib/python2.7/dist-packages\n",
      "Requirement already satisfied: model_mommy in /usr/local/lib/python2.7/dist-packages\n",
      "Requirement already satisfied: django-leaflet in /usr/local/lib/python2.7/dist-packages\n",
      "Requirement already satisfied: django-rest-framework in /usr/local/lib/python2.7/dist-packages\n",
      "Requirement already satisfied: djangorestframework-gis in /usr/local/lib/python2.7/dist-packages\n",
      "Requirement already satisfied: pytz in /usr/local/lib/python2.7/dist-packages (from django)\n",
      "Requirement already satisfied: six in /usr/local/lib/python2.7/dist-packages (from model_mommy)\n",
      "Requirement already satisfied: djangorestframework in /usr/local/lib/python2.7/dist-packages (from django-rest-framework)\n",
      "Collecting https://github.com/sigma-geosistemas/mommy_spatial_generators/archive/master.zip\n",
      "  Downloading https://github.com/sigma-geosistemas/mommy_spatial_generators/archive/master.zip\n",
      "  Requirement already satisfied (use --upgrade to upgrade): mommy-spatial-generators==0.1.0 from https://github.com/sigma-geosistemas/mommy_spatial_generators/archive/master.zip in /usr/local/lib/python2.7/dist-packages\n",
      "Processing /notebooks\n",
      "Requirement already up-to-date: django>=1.8 in /usr/local/lib/python2.7/dist-packages (from django-geohash-cluster==0.1.0)\n",
      "Requirement already up-to-date: pytz in /usr/local/lib/python2.7/dist-packages (from django>=1.8->django-geohash-cluster==0.1.0)\n",
      "Installing collected packages: django-geohash-cluster\n",
      "  Found existing installation: django-geohash-cluster 0.1.0\n",
      "    Uninstalling django-geohash-cluster-0.1.0:\n",
      "      Successfully uninstalled django-geohash-cluster-0.1.0\n",
      "  Running setup.py install for django-geohash-cluster ... \u001b[?25ldone\n",
      "\u001b[?25hSuccessfully installed django-geohash-cluster-0.1.0\n"
     ]
    }
   ],
   "source": [
    "!pip install django python-geohash django-filter dj_database_url psycopg2  model_mommy  django-leaflet django-rest-framework djangorestframework-gis\n",
    "!pip install https://github.com/sigma-geosistemas/mommy_spatial_generators/archive/master.zip\n",
    "!pip install -U .."
   ]
  },
  {
   "cell_type": "code",
   "execution_count": 2,
   "metadata": {},
   "outputs": [
    {
     "data": {
      "text/plain": [
       "'example.settings'"
      ]
     },
     "execution_count": 2,
     "metadata": {},
     "output_type": "execute_result"
    }
   ],
   "source": [
    "import os\n",
    "os.environ['DATABASE_URL'] = 'postgis://geohash:test@db:5432/geohash'\n",
    "os.environ.setdefault(\"DJANGO_SETTINGS_MODULE\", \"example.settings\")"
   ]
  },
  {
   "cell_type": "code",
   "execution_count": 3,
   "metadata": {},
   "outputs": [
    {
     "name": "stdout",
     "output_type": "stream",
     "text": [
      "\u001b[36;1mOperations to perform:\u001b[0m\r\n",
      "\u001b[1m  Apply all migrations: \u001b[0madmin, auth, contenttypes, example, sessions\r\n",
      "\u001b[36;1mRunning migrations:\u001b[0m\r\n",
      "  No migrations to apply.\r\n"
     ]
    }
   ],
   "source": [
    "import django\n",
    "django.setup()\n",
    "!python manage.py migrate\n"
   ]
  },
  {
   "cell_type": "code",
   "execution_count": 4,
   "metadata": {},
   "outputs": [],
   "source": [
    "from example import models"
   ]
  },
  {
   "cell_type": "code",
   "execution_count": 28,
   "metadata": {},
   "outputs": [],
   "source": [
    "from model_mommy import mommy\n",
    "places = mommy.make(models.Place, _quantity=10000)"
   ]
  },
  {
   "cell_type": "code",
   "execution_count": 6,
   "metadata": {},
   "outputs": [
    {
     "name": "stdout",
     "output_type": "stream",
     "text": [
      "Enabling notebook extension jupyter-js-widgets/extension...\r\n",
      "      - Validating: \u001b[32mOK\u001b[0m\r\n"
     ]
    }
   ],
   "source": [
    "!jupyter nbextension enable --py widgetsnbextension --sys-prefix"
   ]
  },
  {
   "cell_type": "code",
   "execution_count": 42,
   "metadata": {},
   "outputs": [
    {
     "data": {
      "application/vnd.jupyter.widget-view+json": {
       "model_id": "43b2a2ee011c47f3b418c1b0d59c42c2",
       "version_major": 2,
       "version_minor": 0
      },
      "text/html": [
       "<p>Failed to display Jupyter Widget of type <code>interactive</code>.</p>\n",
       "<p>\n",
       "  If you're reading this message in Jupyter Notebook or JupyterLab, it may mean\n",
       "  that the widgets JavaScript is still loading. If this message persists, it\n",
       "  likely means that the widgets JavaScript library is either not installed or\n",
       "  not enabled. See the <a href=\"https://ipywidgets.readthedocs.io/en/stable/user_install.html\">Jupyter\n",
       "  Widgets Documentation</a> for setup instructions.\n",
       "</p>\n",
       "<p>\n",
       "  If you're reading this message in another notebook frontend (for example, a static\n",
       "  rendering on GitHub or <a href=\"https://nbviewer.jupyter.org/\">NBViewer</a>),\n",
       "  it may mean that your frontend doesn't currently support widgets.\n",
       "</p>\n"
      ],
      "text/plain": [
       "interactive(children=(FloatSlider(value=0.0, description=u'lat', max=90.0, min=-90.0), FloatSlider(value=0.0, description=u'lon', max=180.0, min=-180.0), IntSlider(value=0, description=u'zoom', max=9), Output()), _dom_classes=('widget-interact',))"
      ]
     },
     "metadata": {},
     "output_type": "display_data"
    },
    {
     "data": {
      "text/plain": [
       "<function __main__.map_widgets>"
      ]
     },
     "execution_count": 42,
     "metadata": {},
     "output_type": "execute_result"
    }
   ],
   "source": [
    "from ipywidgets import interact\n",
    "import ipywidgets as widgets\n",
    "\n",
    "from example.views import PointSerializer\n",
    "\n",
    "zoomToGeoHashPrecision = {\n",
    "    0: 1,\n",
    "    1: 2,\n",
    "    2: 2,\n",
    "    3: 2,\n",
    "    4: 3,\n",
    "    5: 3,\n",
    "    6: 4,\n",
    "    7: 4,\n",
    "    8: 4,\n",
    "    9: 5,\n",
    "    10: 5,\n",
    "    11: 6,\n",
    "    12: 6,\n",
    "    13: 6,\n",
    "    14: 7,\n",
    "    15: 7,\n",
    "    16: 7,\n",
    "    17: 7,\n",
    "    18: 7,\n",
    "    19: 7,\n",
    "    20: 7,\n",
    "    21: 7\n",
    "}\n",
    "\n",
    "def cluster(zoom):\n",
    "    precision = zoomToGeoHashPrecision[zoom]\n",
    "    \n",
    "    places = models.Place.objects.cluster_points(precision)\n",
    "    serializer = PointSerializer(places, many=True)\n",
    "    return serializer.data\n",
    "\n",
    "\n",
    "def map_widgets(lat=0.0, lon=0.0, zoom=0):\n",
    "    M.layers.annotation.clear_annotations()\n",
    "    M.set_center(lon, lat, zoom)\n",
    "\n",
    "    for i in cluster(zoom)['features']:\n",
    "        M.add_annotation('point', i['geometry']['coordinates'])\n",
    "  \n",
    "interact(map_widgets, lat=(-90.0, 90.0), lon=(-180.0, 180.0), zoom=(0, 9))"
   ]
  },
  {
   "cell_type": "code",
   "execution_count": 43,
   "metadata": {},
   "outputs": [],
   "source": [
    "import timeit"
   ]
  },
  {
   "cell_type": "code",
   "execution_count": null,
   "metadata": {},
   "outputs": [
    {
     "data": {
      "text/plain": [
       "16.0557119846344"
      ]
     },
     "execution_count": 44,
     "metadata": {},
     "output_type": "execute_result"
    }
   ],
   "source": [
    "timeit.timeit('cluster(0)', setup='from __main__ import cluster', number=1000)"
   ]
  },
  {
   "cell_type": "code",
   "execution_count": null,
   "metadata": {},
   "outputs": [],
   "source": [
    "timeit.timeit('cluster(1)', setup='from __main__ import cluster', number=1000)"
   ]
  },
  {
   "cell_type": "code",
   "execution_count": null,
   "metadata": {},
   "outputs": [],
   "source": [
    "timeit.timeit('cluster(0)', setup='from __main__ import cluster', number=1000)"
   ]
  },
  {
   "cell_type": "code",
   "execution_count": null,
   "metadata": {},
   "outputs": [],
   "source": []
  }
 ],
 "metadata": {
  "kernelspec": {
   "display_name": "Geonotebook (Python 2)",
   "language": "python",
   "name": "geonotebook2"
  },
  "language_info": {
   "codemirror_mode": {
    "name": "ipython",
    "version": 2
   },
   "file_extension": ".py",
   "mimetype": "text/x-python",
   "name": "python",
   "nbconvert_exporter": "python",
   "pygments_lexer": "ipython2",
   "version": "2.7.12"
  }
 },
 "nbformat": 4,
 "nbformat_minor": 2
}
